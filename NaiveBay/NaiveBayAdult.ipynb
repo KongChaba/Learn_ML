{
 "cells": [
  {
   "cell_type": "code",
   "execution_count": 56,
   "metadata": {},
   "outputs": [],
   "source": [
    "import pandas as pd\n",
    "from sklearn.preprocessing import LabelEncoder\n",
    "from sklearn.model_selection import train_test_split\n",
    "from sklearn.naive_bayes import GaussianNB\n",
    "from sklearn.metrics import accuracy_score"
   ]
  },
  {
   "cell_type": "code",
   "execution_count": 57,
   "metadata": {},
   "outputs": [],
   "source": [
    "def cleandata(dataset):\n",
    "    for column in dataset.columns:\n",
    "        if dataset[column].dtype == type(object):\n",
    "            le = LabelEncoder()\n",
    "            dataset[column] = le.fit_transform(dataset[column])\n",
    "    return dataset"
   ]
  },
  {
   "cell_type": "code",
   "execution_count": 58,
   "metadata": {},
   "outputs": [],
   "source": [
    "def split_feature_class(dataset,feature):\n",
    "    features = dataset.drop(feature,axis=1) #เอาทุกข้อมูลยกเว้น feature\n",
    "    labels = dataset[feature].copy() #เอาเฉพาะข้อมูล feature\n",
    "    \n",
    "    return features, labels"
   ]
  },
  {
   "cell_type": "code",
   "execution_count": 59,
   "metadata": {},
   "outputs": [],
   "source": [
    "dataset = pd.read_csv('data\\Adult.csv')\n",
    "dataset = cleandata(dataset)"
   ]
  },
  {
   "cell_type": "code",
   "execution_count": 60,
   "metadata": {},
   "outputs": [],
   "source": [
    "#split, train, test\n",
    "training_set, test_set = train_test_split(dataset,test_size=0.2)\n"
   ]
  },
  {
   "cell_type": "code",
   "execution_count": 61,
   "metadata": {},
   "outputs": [],
   "source": [
    "#train\n",
    "train_features, train_labels = split_feature_class(training_set,\"income\")\n",
    "\n",
    "#test\n",
    "test_features, test_labels = split_feature_class(test_set,\"income\")"
   ]
  },
  {
   "cell_type": "code",
   "execution_count": 62,
   "metadata": {},
   "outputs": [
    {
     "name": "stdout",
     "output_type": "stream",
     "text": [
      "       age  workclass  fnlwgt  education  education.num  marital.status  \\\n",
      "31499   58          4  110844         12             14               6   \n",
      "8279    17          4  262511          1              7               4   \n",
      "\n",
      "       occupation  relationship  race  sex  capital.gain  capital.loss  \\\n",
      "31499          12             1     4    0             0             0   \n",
      "8279           12             3     4    1             0             0   \n",
      "\n",
      "       hours.per.week  native.country  \n",
      "31499              27              39  \n",
      "8279               20              39  \n"
     ]
    }
   ],
   "source": [
    "print(train_features.head(2))"
   ]
  },
  {
   "cell_type": "code",
   "execution_count": 64,
   "metadata": {},
   "outputs": [
    {
     "name": "stdout",
     "output_type": "stream",
     "text": [
      "Accuracy =  78.78089973898356\n"
     ]
    }
   ],
   "source": [
    "#model\n",
    "model = GaussianNB()\n",
    "model.fit(train_features, train_labels)\n",
    "\n",
    "#predict\n",
    "clf_pred = model.predict(test_features)\n",
    "\n",
    "print(\"Accuracy = \",accuracy_score(test_labels,clf_pred)*100)"
   ]
  }
 ],
 "metadata": {
  "kernelspec": {
   "display_name": "Python 3",
   "language": "python",
   "name": "python3"
  },
  "language_info": {
   "codemirror_mode": {
    "name": "ipython",
    "version": 3
   },
   "file_extension": ".py",
   "mimetype": "text/x-python",
   "name": "python",
   "nbconvert_exporter": "python",
   "pygments_lexer": "ipython3",
   "version": "3.10.11"
  }
 },
 "nbformat": 4,
 "nbformat_minor": 2
}
