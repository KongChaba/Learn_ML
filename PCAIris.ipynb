{
 "cells": [
  {
   "cell_type": "code",
   "execution_count": 177,
   "metadata": {},
   "outputs": [],
   "source": [
    "from sklearn.model_selection import train_test_split\n",
    "from sklearn.naive_bayes import GaussianNB\n",
    "from sklearn.metrics import accuracy_score\n",
    "import seaborn as sb\n",
    "from sklearn.decomposition import PCA"
   ]
  },
  {
   "cell_type": "code",
   "execution_count": 178,
   "metadata": {},
   "outputs": [
    {
     "name": "stdout",
     "output_type": "stream",
     "text": [
      "     sepal_length  sepal_width  petal_length  petal_width     species\n",
      "104           6.5          3.0           5.8          2.2   virginica\n",
      "70            5.9          3.2           4.8          1.8  versicolor\n",
      "98            5.1          2.5           3.0          1.1  versicolor\n",
      "54            6.5          2.8           4.6          1.5  versicolor\n",
      "72            6.3          2.5           4.9          1.5  versicolor\n"
     ]
    }
   ],
   "source": [
    "#load data\n",
    "iris = sb.load_dataset('iris')\n",
    "print(iris.sample(5))"
   ]
  },
  {
   "cell_type": "code",
   "execution_count": 179,
   "metadata": {},
   "outputs": [
    {
     "name": "stdout",
     "output_type": "stream",
     "text": [
      "     sepal_length  sepal_width  petal_length  petal_width\n",
      "82            5.8          2.7           3.9          1.2\n",
      "93            5.0          2.3           3.3          1.0\n",
      "117           7.7          3.8           6.7          2.2\n",
      "116           6.5          3.0           5.5          1.8\n",
      "123           6.3          2.7           4.9          1.8\n"
     ]
    }
   ],
   "source": [
    "x = iris.drop('species',axis=1) #4\n",
    "print(x.sample(5))"
   ]
  },
  {
   "cell_type": "code",
   "execution_count": 180,
   "metadata": {},
   "outputs": [
    {
     "name": "stdout",
     "output_type": "stream",
     "text": [
      "83     versicolor\n",
      "31         setosa\n",
      "8          setosa\n",
      "49         setosa\n",
      "147     virginica\n",
      "Name: species, dtype: object\n"
     ]
    }
   ],
   "source": [
    "y = iris['species']\n",
    "print(y.sample(5))"
   ]
  },
  {
   "cell_type": "code",
   "execution_count": 181,
   "metadata": {},
   "outputs": [
    {
     "name": "stdout",
     "output_type": "stream",
     "text": [
      "Before :  (150, 4)\n",
      "After :  (150, 3)\n"
     ]
    }
   ],
   "source": [
    "print(\"Before : \",x.shape)\n",
    "\n",
    "#pca\n",
    "pca = PCA(n_components=3)\n",
    "x_pca = pca.fit_transform(x)\n",
    "\n",
    "print(\"After : \", x_pca.shape)"
   ]
  },
  {
   "cell_type": "code",
   "execution_count": 182,
   "metadata": {},
   "outputs": [
    {
     "name": "stdout",
     "output_type": "stream",
     "text": [
      "     sepal_length  sepal_width  petal_length  petal_width      PCA1      PCA2  \\\n",
      "66            5.6          3.0           4.5          1.5  0.660284 -0.352970   \n",
      "120           6.9          3.2           5.7          2.3  2.427818  0.378196   \n",
      "22            4.6          3.6           1.0          0.2 -3.215939  0.133468   \n",
      "\n",
      "         PCA3  \n",
      "66   0.328028  \n",
      "120  0.219119  \n",
      "22   0.292397  \n"
     ]
    }
   ],
   "source": [
    "#add before, after\n",
    "x['PCA1'] = x_pca[:,0]\n",
    "x['PCA2'] = x_pca[:,1]\n",
    "x['PCA3'] = x_pca[:,2]\n",
    "\n",
    "print(x.sample(3))"
   ]
  },
  {
   "cell_type": "code",
   "execution_count": 183,
   "metadata": {},
   "outputs": [
    {
     "name": "stdout",
     "output_type": "stream",
     "text": [
      "     sepal_length  sepal_width  petal_length  petal_width      PCA1      PCA2  \\\n",
      "127           6.1          3.0           4.9          1.8  1.291132 -0.116669   \n",
      "6             4.6          3.4           1.4          0.3 -2.820538 -0.089461   \n",
      "31            5.4          3.4           1.5          0.4 -2.409932  0.410924   \n",
      "\n",
      "         PCA3  \n",
      "127  0.231256  \n",
      "6    0.257892  \n",
      "31  -0.145525  \n"
     ]
    }
   ],
   "source": [
    "x_train, x_test, y_train, y_test = train_test_split(x,y)\n",
    "print(x_train.head(3))"
   ]
  },
  {
   "cell_type": "code",
   "execution_count": 184,
   "metadata": {},
   "outputs": [
    {
     "name": "stdout",
     "output_type": "stream",
     "text": [
      "         PCA1      PCA2      PCA3\n",
      "127  1.291132 -0.116669  0.231256\n",
      "6   -2.820538 -0.089461  0.257892\n",
      "31  -2.409932  0.410924 -0.145525\n"
     ]
    }
   ],
   "source": [
    "#Complete Data\n",
    "x_train = x_train.loc[:,['PCA1','PCA2','PCA3']]\n",
    "print(x_train.head(3))"
   ]
  },
  {
   "cell_type": "code",
   "execution_count": 185,
   "metadata": {},
   "outputs": [
    {
     "name": "stdout",
     "output_type": "stream",
     "text": [
      "         PCA1      PCA2      PCA3\n",
      "148  1.900942  0.116628  0.723252\n",
      "30  -2.587398 -0.204318 -0.077223\n",
      "125  2.614090  0.560901 -0.205535\n"
     ]
    }
   ],
   "source": [
    "x_test = x_test.loc[:,['PCA1','PCA2','PCA3']]\n",
    "print(x_test.head(3))"
   ]
  },
  {
   "cell_type": "code",
   "execution_count": 186,
   "metadata": {},
   "outputs": [],
   "source": [
    "model=GaussianNB()\n",
    "model.fit(x_train,y_train)\n",
    "y_pred=model.predict(x_test)"
   ]
  },
  {
   "cell_type": "code",
   "execution_count": 187,
   "metadata": {},
   "outputs": [
    {
     "name": "stdout",
     "output_type": "stream",
     "text": [
      "Accuracy :  92.10526315789474\n"
     ]
    }
   ],
   "source": [
    "print(\"Accuracy : \",accuracy_score(y_test,y_pred)*100)"
   ]
  }
 ],
 "metadata": {
  "kernelspec": {
   "display_name": "Python 3",
   "language": "python",
   "name": "python3"
  },
  "language_info": {
   "codemirror_mode": {
    "name": "ipython",
    "version": 3
   },
   "file_extension": ".py",
   "mimetype": "text/x-python",
   "name": "python",
   "nbconvert_exporter": "python",
   "pygments_lexer": "ipython3",
   "version": "3.10.11"
  }
 },
 "nbformat": 4,
 "nbformat_minor": 2
}
